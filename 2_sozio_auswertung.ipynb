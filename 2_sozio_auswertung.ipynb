{
 "cells": [
  {
   "cell_type": "code",
   "execution_count": 23,
   "metadata": {},
   "outputs": [],
   "source": [
    "import pandas as pd\n",
    "from functools import reduce\n",
    "import numpy as np\n",
    "from scipy.stats.stats import pearsonr\n",
    "from scipy.stats import probplot\n",
    "import pylab"
   ]
  },
  {
   "cell_type": "markdown",
   "metadata": {},
   "source": [
    "## Import der Gemeindedaten"
   ]
  },
  {
   "cell_type": "code",
   "execution_count": 24,
   "metadata": {},
   "outputs": [],
   "source": [
    "#Ausländeranteil\n",
    "df_aus = pd.read_csv('Sozio-Daten/ausländeranteil.csv', encoding='latin', delimiter=';')\n",
    "\n",
    "#Sozialhilfequote\n",
    "df_soz = pd.read_csv('Sozio-Daten/sozialhilfequote.csv', encoding='latin', delimiter=';')\n",
    "\n",
    "#SVP-Stimmen\n",
    "df_svp = pd.read_csv('Sozio-Daten/svp-anteil.csv', encoding='latin', delimiter=';')\n",
    "\n",
    "#Haushaltsgrösse\n",
    "df_haushalt = pd.read_csv('Sozio-Daten/haushaltsgroesse.csv', encoding='latin', delimiter=';')\n",
    "\n",
    "#Einkommen\n",
    "df_einkommen = pd.read_csv('Sozio-Daten/einkommen.csv', encoding='latin', delimiter=';')\n",
    "\n",
    "#Corona-Daten\n",
    "df_corona = pd.read_csv('Exporte/fälle_pro_hundert.csv')"
   ]
  },
  {
   "cell_type": "markdown",
   "metadata": {},
   "source": [
    "Die Datensets zu Ausländeranteil, Sozialhilfequote und Einkommen kommen aus der gleichen Quelle. Mit einer Funktion werden erste Formatierungen vorgenommen."
   ]
  },
  {
   "cell_type": "code",
   "execution_count": 25,
   "metadata": {},
   "outputs": [],
   "source": [
    "dataframes = [df_aus, df_soz, df_einkommen]"
   ]
  },
  {
   "cell_type": "code",
   "execution_count": 26,
   "metadata": {},
   "outputs": [],
   "source": [
    "def df_handler(df_temp):\n",
    "    df_temp['DATUM'] = pd.to_datetime(df_temp['DATUM'])\n",
    "    df_temp.rename(columns={'BFSNR': 'bfs_nummer'}, inplace=True)\n",
    "    return df_temp"
   ]
  },
  {
   "cell_type": "code",
   "execution_count": 27,
   "metadata": {},
   "outputs": [],
   "source": [
    "for df in dataframes:\n",
    "    df_handler(df)"
   ]
  },
  {
   "cell_type": "markdown",
   "metadata": {},
   "source": [
    "## Individuelle Formatierungen und Berechnungen"
   ]
  },
  {
   "cell_type": "markdown",
   "metadata": {},
   "source": [
    "**Ausländeranteil**"
   ]
  },
  {
   "cell_type": "code",
   "execution_count": 28,
   "metadata": {
    "scrolled": true
   },
   "outputs": [
    {
     "name": "stderr",
     "output_type": "stream",
     "text": [
      "<ipython-input-28-9b6b0c7e642b>:2: SettingWithCopyWarning: \n",
      "A value is trying to be set on a copy of a slice from a DataFrame.\n",
      "Try using .loc[row_indexer,col_indexer] = value instead\n",
      "\n",
      "See the caveats in the documentation: https://pandas.pydata.org/pandas-docs/stable/user_guide/indexing.html#returning-a-view-versus-a-copy\n",
      "  df_aus['ausländeranteil'] = ((df_aus['AUSL_TOTAL'] / df_aus['TOTAL']) * 100).round(1)\n"
     ]
    }
   ],
   "source": [
    "df_aus = df_aus[df_aus['DATUM'].dt.year == 2020]\n",
    "df_aus['ausländeranteil'] = ((df_aus['AUSL_TOTAL'] / df_aus['TOTAL']) * 100).round(1)\n",
    "df_aus = df_aus[['bfs_nummer', 'NAME', 'ausländeranteil']].copy()"
   ]
  },
  {
   "cell_type": "markdown",
   "metadata": {},
   "source": [
    "**Sozialhilfequote**"
   ]
  },
  {
   "cell_type": "code",
   "execution_count": 29,
   "metadata": {},
   "outputs": [],
   "source": [
    "df_soz = df_soz[df_soz['DATUM'].dt.year == 2019]\n",
    "df_soz = df_soz[['bfs_nummer', 'SH_QUOTE']].copy()\n",
    "df_soz.loc[df_soz['SH_QUOTE'] == 'X', 'SH_QUOTE'] = np.nan\n",
    "df_soz['SH_QUOTE'] = df_soz['SH_QUOTE'].astype(float)"
   ]
  },
  {
   "cell_type": "markdown",
   "metadata": {},
   "source": [
    "**SVP-Stimmen**"
   ]
  },
  {
   "cell_type": "code",
   "execution_count": 31,
   "metadata": {},
   "outputs": [],
   "source": [
    "df_svp.rename(columns={'gemeinde_nummer': 'bfs_nummer'}, inplace=True)\n",
    "df_svp = df_svp[(df_svp['bfs_nummer'] >= 4001) & (df_svp['bfs_nummer'] <= 4323)].copy()"
   ]
  },
  {
   "cell_type": "code",
   "execution_count": 32,
   "metadata": {},
   "outputs": [],
   "source": [
    "df_svp = df_svp[['bfs_nummer', 'partei_bezeichnung_de', 'partei_staerke']].copy()"
   ]
  },
  {
   "cell_type": "code",
   "execution_count": 33,
   "metadata": {},
   "outputs": [],
   "source": [
    "df_svp = df_svp.pivot_table(index=['bfs_nummer'], columns='partei_bezeichnung_de', values='partei_staerke')\n",
    "df_svp.reset_index(inplace=True)\n",
    "df_svp = df_svp[['bfs_nummer', 'SVP']].copy()"
   ]
  },
  {
   "cell_type": "markdown",
   "metadata": {},
   "source": [
    "**Haushaltsgrösse**"
   ]
  },
  {
   "cell_type": "code",
   "execution_count": 34,
   "metadata": {},
   "outputs": [],
   "source": [
    "df_haushalt.columns = ['gemeinde', 'haushalt', 'summe']\n",
    "df_haushalt['bfs_nummer'] = df_haushalt['gemeinde'].str.split(' ').str[0].str.replace('......', '')\n",
    "df_haushalt['bfs_nummer'] = df_haushalt['bfs_nummer'].astype(int)\n",
    "df_haushalt = df_haushalt[(df_haushalt['bfs_nummer'] >= 4001) & (df_haushalt['bfs_nummer'] <= 4323)].copy()"
   ]
  },
  {
   "cell_type": "code",
   "execution_count": 35,
   "metadata": {},
   "outputs": [],
   "source": [
    "df_haushalt = df_haushalt.pivot_table(index='bfs_nummer', columns='haushalt', values='summe')\n",
    "df_haushalt.reset_index(inplace=True)\n",
    "df_haushalt['anteil_haushalte_6+'] = ((df_haushalt['6 oder mehr Personen'] / df_haushalt['Haushaltsgrösse - Total']) * 100).round(1)\n",
    "df_haushalt = df_haushalt[['bfs_nummer', 'anteil_haushalte_6+']].copy()"
   ]
  },
  {
   "cell_type": "markdown",
   "metadata": {},
   "source": [
    "**Medianeinkommen**"
   ]
  },
  {
   "cell_type": "code",
   "execution_count": 36,
   "metadata": {},
   "outputs": [],
   "source": [
    "df_einkommen = df_einkommen[df_einkommen['DATUM'].dt.year == 2017].copy()"
   ]
  },
  {
   "cell_type": "code",
   "execution_count": 37,
   "metadata": {},
   "outputs": [],
   "source": [
    "df_einkommen = df_einkommen[['bfs_nummer', 'EK_REIN_MEDIAN']].copy()\n",
    "df_einkommen.rename(columns={'EK_REIN_MEDIAN': 'Medianeinkommen'}, inplace=True)"
   ]
  },
  {
   "cell_type": "code",
   "execution_count": 38,
   "metadata": {},
   "outputs": [],
   "source": [
    "df_einkommen['Medianeinkommen'] = df_einkommen['Medianeinkommen'].astype(float)"
   ]
  },
  {
   "cell_type": "markdown",
   "metadata": {},
   "source": [
    "**Corona-Daten**"
   ]
  },
  {
   "cell_type": "code",
   "execution_count": 39,
   "metadata": {},
   "outputs": [],
   "source": [
    "df_corona.rename(columns={'BFS-Nummer': 'bfs_nummer'}, inplace=True)\n",
    "df_corona = df_corona[['bfs_nummer', 'fälle_pro_hundert', 'einwohner']].copy()"
   ]
  },
  {
   "cell_type": "markdown",
   "metadata": {},
   "source": [
    "## Merge"
   ]
  },
  {
   "cell_type": "code",
   "execution_count": 40,
   "metadata": {},
   "outputs": [],
   "source": [
    "final_frames = [df_aus, df_soz, df_svp, df_haushalt, df_einkommen, df_corona]\n",
    "df = reduce(lambda left,right: pd.merge(left,right,on=['bfs_nummer'],\n",
    "                                            how='outer'), final_frames)"
   ]
  },
  {
   "cell_type": "code",
   "execution_count": 41,
   "metadata": {},
   "outputs": [],
   "source": [
    "df.sort_values(by='bfs_nummer', inplace=True)\n",
    "\n",
    "#Nur Aargauuer Gemeinden\n",
    "df = df[(df['bfs_nummer'] >= 4001) & (df['bfs_nummer'] <= 4323)].copy()\n",
    "\n",
    "#Nur Gemeinden, wo der Name vorhanden ist (kein Name = fusionierte Gemeinde)\n",
    "df = df[df['NAME'].notnull()].copy()\n",
    "\n",
    "df.set_index('bfs_nummer', inplace=True)\n",
    "df.columns = ['Gemeinde', 'Ausländeranteil', 'Sozialhilfequote', 'SVP-Wähleranteil', 'Anteil Haushalte 6+', 'Medianeinkommen', 'fälle_pro_hundert', 'einwohner']"
   ]
  },
  {
   "cell_type": "markdown",
   "metadata": {},
   "source": [
    "## Korrelationsanalyse"
   ]
  },
  {
   "cell_type": "code",
   "execution_count": 44,
   "metadata": {
    "scrolled": true
   },
   "outputs": [],
   "source": [
    "#Nur Gemeinden mit mehr als 5000 Einwohnern\n",
    "df = df[df['einwohner'] >= 5000].copy()"
   ]
  },
  {
   "cell_type": "code",
   "execution_count": 46,
   "metadata": {},
   "outputs": [
    {
     "data": {
      "text/plain": [
       "35"
      ]
     },
     "execution_count": 46,
     "metadata": {},
     "output_type": "execute_result"
    }
   ],
   "source": [
    "#Es müssen nun 35 Gemeinden sein\n",
    "len(df)"
   ]
  },
  {
   "cell_type": "code",
   "execution_count": 47,
   "metadata": {},
   "outputs": [
    {
     "name": "stdout",
     "output_type": "stream",
     "text": [
      "<class 'pandas.core.frame.DataFrame'>\n",
      "Int64Index: 35 entries, 4001 to 4289\n",
      "Data columns (total 8 columns):\n",
      " #   Column               Non-Null Count  Dtype  \n",
      "---  ------               --------------  -----  \n",
      " 0   Gemeinde             35 non-null     object \n",
      " 1   Ausländeranteil      35 non-null     float64\n",
      " 2   Sozialhilfequote     35 non-null     float64\n",
      " 3   SVP-Wähleranteil     35 non-null     float64\n",
      " 4   Anteil Haushalte 6+  35 non-null     float64\n",
      " 5   Medianeinkommen      35 non-null     float64\n",
      " 6   fälle_pro_hundert    35 non-null     float64\n",
      " 7   einwohner            35 non-null     float64\n",
      "dtypes: float64(7), object(1)\n",
      "memory usage: 2.5+ KB\n"
     ]
    }
   ],
   "source": [
    "#Sind alle Daten vorhanden?\n",
    "df.info()"
   ]
  },
  {
   "cell_type": "markdown",
   "metadata": {},
   "source": [
    "**Spalten auf Normalverteilung prüfen**"
   ]
  },
  {
   "cell_type": "markdown",
   "metadata": {},
   "source": [
    "Fazit: Die Normalverteilung wird für alle Indikatoren als gegeben erachtet."
   ]
  },
  {
   "cell_type": "code",
   "execution_count": 48,
   "metadata": {},
   "outputs": [
    {
     "data": {
      "text/plain": [
       "((array([-2.06188401, -1.66883254, -1.4335397 , -1.25837339, -1.11509471,\n",
       "         -0.99166098, -0.8817426 , -0.78156696, -0.68868392, -0.60139747,\n",
       "         -0.51847288, -0.4389725 , -0.36215721, -0.28742406, -0.21426459,\n",
       "         -0.14223572, -0.07093824,  0.        ,  0.07093824,  0.14223572,\n",
       "          0.21426459,  0.28742406,  0.36215721,  0.4389725 ,  0.51847288,\n",
       "          0.60139747,  0.68868392,  0.78156696,  0.8817426 ,  0.99166098,\n",
       "          1.11509471,  1.25837339,  1.4335397 ,  1.66883254,  2.06188401]),\n",
       "  array([5.12044228, 5.28157811, 5.60080611, 5.7465813 , 5.93952484,\n",
       "         5.99406528, 6.28453039, 6.31919393, 6.36755666, 6.57451923,\n",
       "         6.65938865, 6.74337581, 6.79944703, 6.91231473, 6.97632387,\n",
       "         7.09477897, 7.13642638, 7.17850288, 7.2965642 , 7.3144302 ,\n",
       "         7.3927279 , 7.40740741, 7.44653104, 7.4842494 , 7.50226655,\n",
       "         7.55235478, 7.82593123, 8.01558258, 8.0444001 , 8.12790534,\n",
       "         8.21917808, 8.66614751, 8.69463323, 9.78923102, 9.90010703])),\n",
       " (1.130430806323509, 7.183114401215877, 0.9860362805670662))"
      ]
     },
     "execution_count": 48,
     "metadata": {},
     "output_type": "execute_result"
    },
    {
     "data": {
      "image/png": "[encoded data removed]",
      "text/plain": [
       "<Figure size 432x288 with 1 Axes>"
      ]
     },
     "metadata": {
      "needs_background": "light"
     },
     "output_type": "display_data"
    }
   ],
   "source": [
    "probplot(df['fälle_pro_hundert'].to_numpy(), dist=\"norm\", plot=pylab)"
   ]
  },
  {
   "cell_type": "code",
   "execution_count": 49,
   "metadata": {
    "scrolled": true
   },
   "outputs": [
    {
     "data": {
      "text/plain": [
       "((array([-2.06188401, -1.66883254, -1.4335397 , -1.25837339, -1.11509471,\n",
       "         -0.99166098, -0.8817426 , -0.78156696, -0.68868392, -0.60139747,\n",
       "         -0.51847288, -0.4389725 , -0.36215721, -0.28742406, -0.21426459,\n",
       "         -0.14223572, -0.07093824,  0.        ,  0.07093824,  0.14223572,\n",
       "          0.21426459,  0.28742406,  0.36215721,  0.4389725 ,  0.51847288,\n",
       "          0.60139747,  0.68868392,  0.78156696,  0.8817426 ,  0.99166098,\n",
       "          1.11509471,  1.25837339,  1.4335397 ,  1.66883254,  2.06188401]),\n",
       "  array([15.9, 18.6, 19.7, 21.1, 21.4, 21.8, 22.1, 22.2, 23.1, 24.8, 25.1,\n",
       "         25.7, 26. , 26.2, 26.7, 28.3, 28.7, 28.7, 28.8, 28.9, 29.2, 31.3,\n",
       "         32.9, 32.9, 33. , 33.6, 34.2, 35.2, 37.7, 38.8, 39.7, 41.8, 44.4,\n",
       "         49.5, 50.4])),\n",
       " (8.509222959948005, 29.954285714285717, 0.9775241051209521))"
      ]
     },
     "execution_count": 49,
     "metadata": {},
     "output_type": "execute_result"
    },
    {
     "data": {
      "image/png": "[encoded data removed]",
      "text/plain": [
       "<Figure size 432x288 with 1 Axes>"
      ]
     },
     "metadata": {
      "needs_background": "light"
     },
     "output_type": "display_data"
    }
   ],
   "source": [
    "probplot(df['Ausländeranteil'].to_numpy(), dist=\"norm\", plot=pylab)"
   ]
  },
  {
   "cell_type": "code",
   "execution_count": 50,
   "metadata": {},
   "outputs": [
    {
     "data": {
      "text/plain": [
       "((array([-2.06188401, -1.66883254, -1.4335397 , -1.25837339, -1.11509471,\n",
       "         -0.99166098, -0.8817426 , -0.78156696, -0.68868392, -0.60139747,\n",
       "         -0.51847288, -0.4389725 , -0.36215721, -0.28742406, -0.21426459,\n",
       "         -0.14223572, -0.07093824,  0.        ,  0.07093824,  0.14223572,\n",
       "          0.21426459,  0.28742406,  0.36215721,  0.4389725 ,  0.51847288,\n",
       "          0.60139747,  0.68868392,  0.78156696,  0.8817426 ,  0.99166098,\n",
       "          1.11509471,  1.25837339,  1.4335397 ,  1.66883254,  2.06188401]),\n",
       "  array([1.2, 1.5, 1.6, 1.6, 1.6, 1.6, 1.9, 1.9, 2. , 2.1, 2.1, 2.2, 2.3,\n",
       "         2.3, 2.3, 2.6, 2.6, 2.7, 2.7, 2.8, 2.8, 2.9, 3. , 3.2, 3.6, 3.6,\n",
       "         3.6, 3.6, 3.7, 3.9, 3.9, 4.1, 4.6, 4.9, 5. ])),\n",
       " (1.0239865063460236, 2.8, 0.980262870596217))"
      ]
     },
     "execution_count": 50,
     "metadata": {},
     "output_type": "execute_result"
    },
    {
     "data": {
      "image/png": "[encoded data removed]",
      "text/plain": [
       "<Figure size 432x288 with 1 Axes>"
      ]
     },
     "metadata": {
      "needs_background": "light"
     },
     "output_type": "display_data"
    }
   ],
   "source": [
    "probplot(df['Sozialhilfequote'].to_numpy(), dist=\"norm\", plot=pylab)"
   ]
  },
  {
   "cell_type": "code",
   "execution_count": 51,
   "metadata": {},
   "outputs": [
    {
     "data": {
      "text/plain": [
       "((array([-2.06188401, -1.66883254, -1.4335397 , -1.25837339, -1.11509471,\n",
       "         -0.99166098, -0.8817426 , -0.78156696, -0.68868392, -0.60139747,\n",
       "         -0.51847288, -0.4389725 , -0.36215721, -0.28742406, -0.21426459,\n",
       "         -0.14223572, -0.07093824,  0.        ,  0.07093824,  0.14223572,\n",
       "          0.21426459,  0.28742406,  0.36215721,  0.4389725 ,  0.51847288,\n",
       "          0.60139747,  0.68868392,  0.78156696,  0.8817426 ,  0.99166098,\n",
       "          1.11509471,  1.25837339,  1.4335397 ,  1.66883254,  2.06188401]),\n",
       "  array([14.73451722, 16.34767692, 17.63818203, 18.02151707, 19.28173441,\n",
       "         20.96538462, 22.27120625, 22.36690766, 22.59463722, 22.86483675,\n",
       "         23.40886545, 26.61745742, 26.70099463, 26.81067344, 27.15310259,\n",
       "         27.80619336, 28.83213914, 29.16414032, 30.4189198 , 30.52667616,\n",
       "         31.07758007, 31.89916708, 31.91846603, 32.04652562, 32.10417611,\n",
       "         33.52871287, 34.2867918 , 34.5221225 , 34.90252241, 35.26993112,\n",
       "         35.86511048, 41.37154082, 41.69618758, 42.20696511, 44.55441303])),\n",
       " (7.808347620592783, 28.9078850022, 0.99193400737195))"
      ]
     },
     "execution_count": 51,
     "metadata": {},
     "output_type": "execute_result"
    },
    {
     "data": {
      "image/png": "[encoded data removed]",
      "text/plain": [
       "<Figure size 432x288 with 1 Axes>"
      ]
     },
     "metadata": {
      "needs_background": "light"
     },
     "output_type": "display_data"
    }
   ],
   "source": [
    "probplot(df['SVP-Wähleranteil'].to_numpy(), dist=\"norm\", plot=pylab)"
   ]
  },
  {
   "cell_type": "code",
   "execution_count": 52,
   "metadata": {},
   "outputs": [
    {
     "data": {
      "text/plain": [
       "((array([-2.06188401, -1.66883254, -1.4335397 , -1.25837339, -1.11509471,\n",
       "         -0.99166098, -0.8817426 , -0.78156696, -0.68868392, -0.60139747,\n",
       "         -0.51847288, -0.4389725 , -0.36215721, -0.28742406, -0.21426459,\n",
       "         -0.14223572, -0.07093824,  0.        ,  0.07093824,  0.14223572,\n",
       "          0.21426459,  0.28742406,  0.36215721,  0.4389725 ,  0.51847288,\n",
       "          0.60139747,  0.68868392,  0.78156696,  0.8817426 ,  0.99166098,\n",
       "          1.11509471,  1.25837339,  1.4335397 ,  1.66883254,  2.06188401]),\n",
       "  array([0.8, 0.9, 0.9, 1. , 1. , 1.1, 1.3, 1.3, 1.3, 1.4, 1.4, 1.4, 1.5,\n",
       "         1.5, 1.5, 1.5, 1.6, 1.6, 1.7, 1.7, 1.7, 1.7, 1.7, 1.7, 1.8, 1.8,\n",
       "         1.8, 1.9, 1.9, 1.9, 2. , 2.2, 2.2, 2.8, 3. ])),\n",
       " (0.4762736087171767, 1.6142857142857143, 0.9643688079979241))"
      ]
     },
     "execution_count": 52,
     "metadata": {},
     "output_type": "execute_result"
    },
    {
     "data": {
      "image/png": "[encoded data removed]",
      "text/plain": [
       "<Figure size 432x288 with 1 Axes>"
      ]
     },
     "metadata": {
      "needs_background": "light"
     },
     "output_type": "display_data"
    }
   ],
   "source": [
    "probplot(df['Anteil Haushalte 6+'].to_numpy(), dist=\"norm\", plot=pylab)"
   ]
  },
  {
   "cell_type": "code",
   "execution_count": 53,
   "metadata": {},
   "outputs": [
    {
     "data": {
      "text/plain": [
       "((array([-2.06188401, -1.66883254, -1.4335397 , -1.25837339, -1.11509471,\n",
       "         -0.99166098, -0.8817426 , -0.78156696, -0.68868392, -0.60139747,\n",
       "         -0.51847288, -0.4389725 , -0.36215721, -0.28742406, -0.21426459,\n",
       "         -0.14223572, -0.07093824,  0.        ,  0.07093824,  0.14223572,\n",
       "          0.21426459,  0.28742406,  0.36215721,  0.4389725 ,  0.51847288,\n",
       "          0.60139747,  0.68868392,  0.78156696,  0.8817426 ,  0.99166098,\n",
       "          1.11509471,  1.25837339,  1.4335397 ,  1.66883254,  2.06188401]),\n",
       "  array([46800., 47500., 48800., 50500., 50500., 50700., 52200., 52200.,\n",
       "         52700., 52700., 53200., 53600., 53600., 53600., 54300., 54400.,\n",
       "         54500., 54800., 54900., 55300., 55800., 55800., 56500., 56700.,\n",
       "         56800., 56800., 56900., 57400., 58700., 59100., 59300., 59300.,\n",
       "         60400., 62400., 66300.])),\n",
       " (4141.108439923074, 55000.0, 0.9869310429430286))"
      ]
     },
     "execution_count": 53,
     "metadata": {},
     "output_type": "execute_result"
    },
    {
     "data": {
      "image/png": "[encoded data removed]",
      "text/plain": [
       "<Figure size 432x288 with 1 Axes>"
      ]
     },
     "metadata": {
      "needs_background": "light"
     },
     "output_type": "display_data"
    }
   ],
   "source": [
    "probplot(df['Medianeinkommen'].to_numpy(), dist=\"norm\", plot=pylab)"
   ]
  },
  {
   "cell_type": "markdown",
   "metadata": {},
   "source": [
    "**Korrelationskoeffizient und P-Wert berechnen**"
   ]
  },
  {
   "cell_type": "markdown",
   "metadata": {},
   "source": [
    "- Die Corona-Fallzahl (abhängige Variable) hängt von den diversen Indikatoren (unabhängige Variable) ab.\n",
    "- Interpretation der Korrelationsstärke nach Cohen: https://www.methodenberatung.uzh.ch/de/datenanalyse_spss/zusammenhaenge/korrelation.html\n",
    "- Angenommenes Signifikanzniveau < 0,05"
   ]
  },
  {
   "cell_type": "markdown",
   "metadata": {},
   "source": [
    "Die nachfolgend verwendete Funktion pearsonr gibt zunächst die Korrelation (r) aus und als zweiten Wert den P-Wert: https://docs.scipy.org/doc/scipy/reference/generated/scipy.stats.pearsonr.html"
   ]
  },
  {
   "cell_type": "markdown",
   "metadata": {},
   "source": [
    "Ausländeranteil: Starke Korrelation, statistisch signifikant"
   ]
  },
  {
   "cell_type": "code",
   "execution_count": 54,
   "metadata": {
    "scrolled": true
   },
   "outputs": [
    {
     "data": {
      "text/plain": [
       "(0.5466968940874362, 0.0006787807604775313)"
      ]
     },
     "execution_count": 54,
     "metadata": {},
     "output_type": "execute_result"
    }
   ],
   "source": [
    "df[['fälle_pro_hundert', 'Ausländeranteil']].corr().round(3)\n",
    "pearsonr(df['fälle_pro_hundert'], df['Ausländeranteil'])"
   ]
  },
  {
   "cell_type": "markdown",
   "metadata": {},
   "source": [
    "Sozialhilfequote: Schwache Korrelation, statistisch nicht signifikant"
   ]
  },
  {
   "cell_type": "code",
   "execution_count": 55,
   "metadata": {},
   "outputs": [
    {
     "data": {
      "text/plain": [
       "(0.22158655516685027, 0.20079578890054314)"
      ]
     },
     "execution_count": 55,
     "metadata": {},
     "output_type": "execute_result"
    }
   ],
   "source": [
    "df[['fälle_pro_hundert', 'Sozialhilfequote']].corr().round(3)\n",
    "pearsonr(df['fälle_pro_hundert'], df['Sozialhilfequote'])"
   ]
  },
  {
   "cell_type": "markdown",
   "metadata": {},
   "source": [
    "SVP-Wähleranteil: Schwache Korrelation, statistisch nicht signifikant"
   ]
  },
  {
   "cell_type": "code",
   "execution_count": 56,
   "metadata": {},
   "outputs": [
    {
     "data": {
      "text/plain": [
       "(0.23155094203847076, 0.18076710585711406)"
      ]
     },
     "execution_count": 56,
     "metadata": {},
     "output_type": "execute_result"
    }
   ],
   "source": [
    "df[['fälle_pro_hundert', 'SVP-Wähleranteil']].corr().round(3)\n",
    "pearsonr(df['fälle_pro_hundert'], df['SVP-Wähleranteil'])"
   ]
  },
  {
   "cell_type": "markdown",
   "metadata": {},
   "source": [
    "Anteil grosser Haushalte: Schwache Korrelation, statistisch nicht signifikant"
   ]
  },
  {
   "cell_type": "code",
   "execution_count": 57,
   "metadata": {},
   "outputs": [
    {
     "data": {
      "text/plain": [
       "(0.28536857584114705, 0.09657156380932375)"
      ]
     },
     "execution_count": 57,
     "metadata": {},
     "output_type": "execute_result"
    }
   ],
   "source": [
    "df[['fälle_pro_hundert', 'Anteil Haushalte 6+']].corr().round(3)\n",
    "pearsonr(df['fälle_pro_hundert'], df['Anteil Haushalte 6+'])"
   ]
  },
  {
   "cell_type": "markdown",
   "metadata": {},
   "source": [
    "Medianeinkommen: Moderate Korrelation, statistisch signifikant"
   ]
  },
  {
   "cell_type": "code",
   "execution_count": 58,
   "metadata": {},
   "outputs": [
    {
     "data": {
      "text/plain": [
       "(-0.4157268839203814, 0.013001569576966404)"
      ]
     },
     "execution_count": 58,
     "metadata": {},
     "output_type": "execute_result"
    }
   ],
   "source": [
    "df[['fälle_pro_hundert', 'Medianeinkommen']].corr().round(3)\n",
    "pearsonr(df['fälle_pro_hundert'], df['Medianeinkommen'])"
   ]
  },
  {
   "cell_type": "markdown",
   "metadata": {},
   "source": [
    "**Kontrolle: Gibt es Zusammenhänge zwischen Ausländeranteil und Sozialhilfequote, Grosshaushalte, Medianeinkommen?**"
   ]
  },
  {
   "cell_type": "markdown",
   "metadata": {},
   "source": [
    "Mittlere bis starke Korrelationen, darum: ja"
   ]
  },
  {
   "cell_type": "code",
   "execution_count": 77,
   "metadata": {},
   "outputs": [
    {
     "data": {
      "text/plain": [
       "(0.47848457207666195, 0.0036428694475507035)"
      ]
     },
     "execution_count": 77,
     "metadata": {},
     "output_type": "execute_result"
    }
   ],
   "source": [
    "#Ausländer vs. Sozialhilfe\n",
    "pearsonr(df['Ausländeranteil'], df['Sozialhilfequote'])"
   ]
  },
  {
   "cell_type": "code",
   "execution_count": 78,
   "metadata": {},
   "outputs": [
    {
     "data": {
      "text/plain": [
       "(0.6142033033588364, 8.683918644080617e-05)"
      ]
     },
     "execution_count": 78,
     "metadata": {},
     "output_type": "execute_result"
    }
   ],
   "source": [
    "#Ausländer vs. Grosshaushalte\n",
    "pearsonr(df['Ausländeranteil'], df['Anteil Haushalte 6+'])"
   ]
  },
  {
   "cell_type": "code",
   "execution_count": 79,
   "metadata": {},
   "outputs": [
    {
     "data": {
      "text/plain": [
       "(-0.6411270917838496, 3.330373913215798e-05)"
      ]
     },
     "execution_count": 79,
     "metadata": {},
     "output_type": "execute_result"
    }
   ],
   "source": [
    "#Ausländer vs. Medianeinkommen\n",
    "pearsonr(df['Ausländeranteil'], df['Medianeinkommen'])"
   ]
  },
  {
   "cell_type": "markdown",
   "metadata": {},
   "source": [
    "**Export für Scatterplots**"
   ]
  },
  {
   "cell_type": "markdown",
   "metadata": {},
   "source": [
    "Vergleich Covid-Inzidenz mit den anderen Variablen"
   ]
  },
  {
   "cell_type": "code",
   "execution_count": 59,
   "metadata": {},
   "outputs": [],
   "source": [
    "df[['Gemeinde', 'fälle_pro_hundert', 'Ausländeranteil']].to_csv('Sozio-Ergebnisse/ausländer.csv')\n",
    "df[['Gemeinde', 'fälle_pro_hundert', 'Sozialhilfequote']].to_csv('Sozio-Ergebnisse/sozialhilfe.csv')\n",
    "df[['Gemeinde', 'fälle_pro_hundert', 'SVP-Wähleranteil']].to_csv('Sozio-Ergebnisse/svp.csv')\n",
    "df[['Gemeinde', 'fälle_pro_hundert', 'Anteil Haushalte 6+']].to_csv('Sozio-Ergebnisse/haushalte.csv')\n",
    "df[['Gemeinde', 'fälle_pro_hundert', 'Medianeinkommen']].to_csv('Sozio-Ergebnisse/einkommen.csv')"
   ]
  },
  {
   "cell_type": "markdown",
   "metadata": {},
   "source": [
    "Vergleich Ausländeranteil mit den anderen Variablen"
   ]
  },
  {
   "cell_type": "code",
   "execution_count": 75,
   "metadata": {},
   "outputs": [],
   "source": [
    "df[['Gemeinde', 'Ausländeranteil', 'Sozialhilfequote']].to_csv('Sozio-Ergebnisse/ausländer_soz.csv')\n",
    "df[['Gemeinde', 'Ausländeranteil', 'Anteil Haushalte 6+']].to_csv('Sozio-Ergebnisse/ausländer_haushalt.csv')\n",
    "df[['Gemeinde', 'Ausländeranteil', 'Medianeinkommen']].to_csv('Sozio-Ergebnisse/ausländer_einkommen.csv')\n",
    "df[['Gemeinde', 'Ausländeranteil', 'SVP-Wähleranteil']].to_csv('Sozio-Ergebnisse/ausländer_svp.csv')"
   ]
  },
  {
   "cell_type": "code",
   "execution_count": 85,
   "metadata": {},
   "outputs": [],
   "source": [
    "df.to_csv('Sozio-Ergebnisse/alle_daten.csv')"
   ]
  },
  {
   "cell_type": "markdown",
   "metadata": {},
   "source": [
    "## Einteilung in zwei Gruppen (für Infografik)"
   ]
  },
  {
   "cell_type": "markdown",
   "metadata": {},
   "source": [
    "Zunächst erfolgt die Zuteilung in hohe Inzidenz und tiefe Inzidenz (unter/über Durchschnitt)"
   ]
  },
  {
   "cell_type": "code",
   "execution_count": 60,
   "metadata": {},
   "outputs": [],
   "source": [
    "def assigner(elem):\n",
    "    if elem > df['fälle_pro_hundert'].mean():\n",
    "        return 'hohe Inzidenz'\n",
    "    else:\n",
    "        return 'tiefe Inzidenz'\n",
    "        \n",
    "df['gruppe'] = df['fälle_pro_hundert'].apply(assigner)"
   ]
  },
  {
   "cell_type": "code",
   "execution_count": 61,
   "metadata": {
    "scrolled": true
   },
   "outputs": [
    {
     "data": {
      "text/html": [
       "<div>\n",
       "<style scoped>\n",
       "    .dataframe tbody tr th:only-of-type {\n",
       "        vertical-align: middle;\n",
       "    }\n",
       "\n",
       "    .dataframe tbody tr th {\n",
       "        vertical-align: top;\n",
       "    }\n",
       "\n",
       "    .dataframe thead th {\n",
       "        text-align: right;\n",
       "    }\n",
       "</style>\n",
       "<table border=\"1\" class=\"dataframe\">\n",
       "  <thead>\n",
       "    <tr style=\"text-align: right;\">\n",
       "      <th></th>\n",
       "      <th>Gemeinde</th>\n",
       "      <th>Ausländeranteil</th>\n",
       "      <th>Sozialhilfequote</th>\n",
       "      <th>SVP-Wähleranteil</th>\n",
       "      <th>Anteil Haushalte 6+</th>\n",
       "      <th>Medianeinkommen</th>\n",
       "      <th>fälle_pro_hundert</th>\n",
       "      <th>einwohner</th>\n",
       "      <th>gruppe</th>\n",
       "    </tr>\n",
       "    <tr>\n",
       "      <th>bfs_nummer</th>\n",
       "      <th></th>\n",
       "      <th></th>\n",
       "      <th></th>\n",
       "      <th></th>\n",
       "      <th></th>\n",
       "      <th></th>\n",
       "      <th></th>\n",
       "      <th></th>\n",
       "      <th></th>\n",
       "    </tr>\n",
       "  </thead>\n",
       "  <tbody>\n",
       "    <tr>\n",
       "      <th>4001</th>\n",
       "      <td>Aarau</td>\n",
       "      <td>21.1</td>\n",
       "      <td>3.6</td>\n",
       "      <td>16.347677</td>\n",
       "      <td>1.0</td>\n",
       "      <td>54500.0</td>\n",
       "      <td>6.743376</td>\n",
       "      <td>21814.0</td>\n",
       "      <td>tiefe Inzidenz</td>\n",
       "    </tr>\n",
       "    <tr>\n",
       "      <th>4003</th>\n",
       "      <td>Buchs (AG)</td>\n",
       "      <td>35.2</td>\n",
       "      <td>3.6</td>\n",
       "      <td>26.810673</td>\n",
       "      <td>1.4</td>\n",
       "      <td>56700.0</td>\n",
       "      <td>8.044400</td>\n",
       "      <td>8018.0</td>\n",
       "      <td>hohe Inzidenz</td>\n",
       "    </tr>\n",
       "    <tr>\n",
       "      <th>4006</th>\n",
       "      <td>Gränichen</td>\n",
       "      <td>22.2</td>\n",
       "      <td>2.1</td>\n",
       "      <td>34.286792</td>\n",
       "      <td>1.7</td>\n",
       "      <td>55300.0</td>\n",
       "      <td>6.319194</td>\n",
       "      <td>8039.0</td>\n",
       "      <td>tiefe Inzidenz</td>\n",
       "    </tr>\n",
       "    <tr>\n",
       "      <th>4008</th>\n",
       "      <td>Küttigen</td>\n",
       "      <td>15.9</td>\n",
       "      <td>1.6</td>\n",
       "      <td>22.271206</td>\n",
       "      <td>1.3</td>\n",
       "      <td>60400.0</td>\n",
       "      <td>5.281578</td>\n",
       "      <td>6286.0</td>\n",
       "      <td>tiefe Inzidenz</td>\n",
       "    </tr>\n",
       "    <tr>\n",
       "      <th>4010</th>\n",
       "      <td>Oberentfelden</td>\n",
       "      <td>32.9</td>\n",
       "      <td>4.6</td>\n",
       "      <td>31.918466</td>\n",
       "      <td>2.0</td>\n",
       "      <td>52700.0</td>\n",
       "      <td>8.694633</td>\n",
       "      <td>8534.0</td>\n",
       "      <td>hohe Inzidenz</td>\n",
       "    </tr>\n",
       "  </tbody>\n",
       "</table>\n",
       "</div>"
      ],
      "text/plain": [
       "                 Gemeinde  Ausländeranteil  Sozialhilfequote  \\\n",
       "bfs_nummer                                                     \n",
       "4001                Aarau             21.1               3.6   \n",
       "4003           Buchs (AG)             35.2               3.6   \n",
       "4006            Gränichen             22.2               2.1   \n",
       "4008             Küttigen             15.9               1.6   \n",
       "4010        Oberentfelden             32.9               4.6   \n",
       "\n",
       "            SVP-Wähleranteil  Anteil Haushalte 6+  Medianeinkommen  \\\n",
       "bfs_nummer                                                           \n",
       "4001               16.347677                  1.0          54500.0   \n",
       "4003               26.810673                  1.4          56700.0   \n",
       "4006               34.286792                  1.7          55300.0   \n",
       "4008               22.271206                  1.3          60400.0   \n",
       "4010               31.918466                  2.0          52700.0   \n",
       "\n",
       "            fälle_pro_hundert  einwohner          gruppe  \n",
       "bfs_nummer                                                \n",
       "4001                 6.743376    21814.0  tiefe Inzidenz  \n",
       "4003                 8.044400     8018.0   hohe Inzidenz  \n",
       "4006                 6.319194     8039.0  tiefe Inzidenz  \n",
       "4008                 5.281578     6286.0  tiefe Inzidenz  \n",
       "4010                 8.694633     8534.0   hohe Inzidenz  "
      ]
     },
     "execution_count": 61,
     "metadata": {},
     "output_type": "execute_result"
    }
   ],
   "source": [
    "#Check\n",
    "df.head(5)"
   ]
  },
  {
   "cell_type": "markdown",
   "metadata": {},
   "source": [
    "**Durchschnitts-Berechnung für jeden Indikator pro Gruppe**"
   ]
  },
  {
   "cell_type": "code",
   "execution_count": 63,
   "metadata": {},
   "outputs": [],
   "source": [
    "data = []\n",
    "\n",
    "search_columns = ['Ausländeranteil', 'Sozialhilfequote', 'SVP-Wähleranteil', 'Anteil Haushalte 6+', 'Medianeinkommen']\n",
    "\n",
    "for c in search_columns:\n",
    "    temp_dict = df.groupby('gruppe')[c].mean().to_dict()\n",
    "    temp_dict['Durchschnitt'] = df[c].mean()\n",
    "    temp_dict['Indikator'] = c\n",
    "    data.append(temp_dict)"
   ]
  },
  {
   "cell_type": "code",
   "execution_count": 64,
   "metadata": {},
   "outputs": [],
   "source": [
    "df_gruppen = pd.DataFrame(data=data)"
   ]
  },
  {
   "cell_type": "code",
   "execution_count": 66,
   "metadata": {},
   "outputs": [],
   "source": [
    "df_gruppen = df_gruppen.pivot_table(columns='Indikator')\n",
    "df_gruppen = df_gruppen.reindex(['hohe Inzidenz', 'Durchschnitt', 'tiefe Inzidenz'])"
   ]
  },
  {
   "cell_type": "code",
   "execution_count": 67,
   "metadata": {},
   "outputs": [
    {
     "data": {
      "text/html": [
       "<div>\n",
       "<style scoped>\n",
       "    .dataframe tbody tr th:only-of-type {\n",
       "        vertical-align: middle;\n",
       "    }\n",
       "\n",
       "    .dataframe tbody tr th {\n",
       "        vertical-align: top;\n",
       "    }\n",
       "\n",
       "    .dataframe thead th {\n",
       "        text-align: right;\n",
       "    }\n",
       "</style>\n",
       "<table border=\"1\" class=\"dataframe\">\n",
       "  <thead>\n",
       "    <tr style=\"text-align: right;\">\n",
       "      <th>Indikator</th>\n",
       "      <th>Anteil Haushalte 6+</th>\n",
       "      <th>Ausländeranteil</th>\n",
       "      <th>Medianeinkommen</th>\n",
       "      <th>SVP-Wähleranteil</th>\n",
       "      <th>Sozialhilfequote</th>\n",
       "    </tr>\n",
       "  </thead>\n",
       "  <tbody>\n",
       "    <tr>\n",
       "      <th>hohe Inzidenz</th>\n",
       "      <td>1.764706</td>\n",
       "      <td>34.000000</td>\n",
       "      <td>53270.588235</td>\n",
       "      <td>31.736267</td>\n",
       "      <td>3.052941</td>\n",
       "    </tr>\n",
       "    <tr>\n",
       "      <th>Durchschnitt</th>\n",
       "      <td>1.614286</td>\n",
       "      <td>29.954286</td>\n",
       "      <td>55000.000000</td>\n",
       "      <td>28.907885</td>\n",
       "      <td>2.800000</td>\n",
       "    </tr>\n",
       "    <tr>\n",
       "      <th>tiefe Inzidenz</th>\n",
       "      <td>1.472222</td>\n",
       "      <td>26.133333</td>\n",
       "      <td>56633.333333</td>\n",
       "      <td>26.236635</td>\n",
       "      <td>2.561111</td>\n",
       "    </tr>\n",
       "  </tbody>\n",
       "</table>\n",
       "</div>"
      ],
      "text/plain": [
       "Indikator       Anteil Haushalte 6+  Ausländeranteil  Medianeinkommen  \\\n",
       "hohe Inzidenz              1.764706        34.000000     53270.588235   \n",
       "Durchschnitt               1.614286        29.954286     55000.000000   \n",
       "tiefe Inzidenz             1.472222        26.133333     56633.333333   \n",
       "\n",
       "Indikator       SVP-Wähleranteil  Sozialhilfequote  \n",
       "hohe Inzidenz          31.736267          3.052941  \n",
       "Durchschnitt           28.907885          2.800000  \n",
       "tiefe Inzidenz         26.236635          2.561111  "
      ]
     },
     "execution_count": 67,
     "metadata": {},
     "output_type": "execute_result"
    }
   ],
   "source": [
    "df_gruppen.head()"
   ]
  },
  {
   "cell_type": "code",
   "execution_count": 68,
   "metadata": {},
   "outputs": [],
   "source": [
    "df_gruppen[['Ausländeranteil', 'Anteil Haushalte 6+', 'Sozialhilfequote', 'SVP-Wähleranteil', 'Medianeinkommen']].to_csv('Sozio-Daten/zwei_gruppen.csv')"
   ]
  }
 ],
 "metadata": {
  "kernelspec": {
   "display_name": "Python 3",
   "language": "python",
   "name": "python3"
  },
  "language_info": {
   "codemirror_mode": {
    "name": "ipython",
    "version": 3
   },
   "file_extension": ".py",
   "mimetype": "text/x-python",
   "name": "python",
   "nbconvert_exporter": "python",
   "pygments_lexer": "ipython3",
   "version": "3.8.3"
  }
 },
 "nbformat": 4,
 "nbformat_minor": 4
}
